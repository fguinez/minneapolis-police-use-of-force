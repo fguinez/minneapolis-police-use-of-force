{
 "cells": [
  {
   "cell_type": "markdown",
   "metadata": {},
   "source": [
    "# Análisis de Datos"
   ]
  },
  {
   "cell_type": "markdown",
   "metadata": {},
   "source": [
    "#### Examen - IIC2026 2020-2\n",
    "Francisco Guíñez Correa"
   ]
  },
  {
   "cell_type": "code",
   "execution_count": 1,
   "metadata": {},
   "outputs": [],
   "source": [
    "import pandas as pd"
   ]
  },
  {
   "cell_type": "code",
   "execution_count": 68,
   "metadata": {},
   "outputs": [
    {
     "data": {
      "text/html": [
       "<div>\n",
       "<style scoped>\n",
       "    .dataframe tbody tr th:only-of-type {\n",
       "        vertical-align: middle;\n",
       "    }\n",
       "\n",
       "    .dataframe tbody tr th {\n",
       "        vertical-align: top;\n",
       "    }\n",
       "\n",
       "    .dataframe thead th {\n",
       "        text-align: right;\n",
       "    }\n",
       "</style>\n",
       "<table border=\"1\" class=\"dataframe\">\n",
       "  <thead>\n",
       "    <tr style=\"text-align: right;\">\n",
       "      <th></th>\n",
       "      <th>X</th>\n",
       "      <th>Y</th>\n",
       "      <th>PoliceUseOfForceID</th>\n",
       "      <th>CaseNumber</th>\n",
       "      <th>ResponseDate</th>\n",
       "      <th>Problem</th>\n",
       "      <th>Is911Call</th>\n",
       "      <th>PrimaryOffense</th>\n",
       "      <th>SubjectInjury</th>\n",
       "      <th>ForceReportNumber</th>\n",
       "      <th>...</th>\n",
       "      <th>TotalCityCallsForYear</th>\n",
       "      <th>TotalPrecinctCallsForYear</th>\n",
       "      <th>TotalNeighborhoodCallsForYear</th>\n",
       "      <th>CenterGBSID</th>\n",
       "      <th>CenterLatitude</th>\n",
       "      <th>CenterLongitude</th>\n",
       "      <th>CenterX</th>\n",
       "      <th>CenterY</th>\n",
       "      <th>DateAdded</th>\n",
       "      <th>OBJECTID</th>\n",
       "    </tr>\n",
       "  </thead>\n",
       "  <tbody>\n",
       "    <tr>\n",
       "      <th>0</th>\n",
       "      <td>-93.291040</td>\n",
       "      <td>44.988830</td>\n",
       "      <td>17349589</td>\n",
       "      <td>08-002346</td>\n",
       "      <td>2008/01/03 03:20:24+00</td>\n",
       "      <td>Theft</td>\n",
       "      <td>Yes</td>\n",
       "      <td>BURGTL</td>\n",
       "      <td>No</td>\n",
       "      <td>4</td>\n",
       "      <td>...</td>\n",
       "      <td>322402</td>\n",
       "      <td>80434.0</td>\n",
       "      <td>1123</td>\n",
       "      <td>16516</td>\n",
       "      <td>44.988830</td>\n",
       "      <td>-93.291040</td>\n",
       "      <td>-1.038511e+07</td>\n",
       "      <td>5.619763e+06</td>\n",
       "      <td>2020/12/16 08:19:04+00</td>\n",
       "      <td>1</td>\n",
       "    </tr>\n",
       "    <tr>\n",
       "      <th>1</th>\n",
       "      <td>-93.278939</td>\n",
       "      <td>44.979240</td>\n",
       "      <td>17349590</td>\n",
       "      <td>08-007154</td>\n",
       "      <td>2008/01/07 22:07:54+00</td>\n",
       "      <td>Suspicious Person</td>\n",
       "      <td>No</td>\n",
       "      <td>LOITER</td>\n",
       "      <td>No</td>\n",
       "      <td>2</td>\n",
       "      <td>...</td>\n",
       "      <td>322402</td>\n",
       "      <td>46998.0</td>\n",
       "      <td>23458</td>\n",
       "      <td>25860</td>\n",
       "      <td>44.979240</td>\n",
       "      <td>-93.278939</td>\n",
       "      <td>-1.038376e+07</td>\n",
       "      <td>5.618254e+06</td>\n",
       "      <td>2020/12/16 08:19:04+00</td>\n",
       "      <td>2</td>\n",
       "    </tr>\n",
       "    <tr>\n",
       "      <th>2</th>\n",
       "      <td>-93.267657</td>\n",
       "      <td>44.968485</td>\n",
       "      <td>17349591</td>\n",
       "      <td>08-016997</td>\n",
       "      <td>2008/01/17 20:36:32+00</td>\n",
       "      <td>High Risk Warrant Entry</td>\n",
       "      <td>No</td>\n",
       "      <td>NARC</td>\n",
       "      <td>Yes</td>\n",
       "      <td>1</td>\n",
       "      <td>...</td>\n",
       "      <td>322402</td>\n",
       "      <td>46998.0</td>\n",
       "      <td>6134</td>\n",
       "      <td>18562</td>\n",
       "      <td>44.968485</td>\n",
       "      <td>-93.267657</td>\n",
       "      <td>-1.038251e+07</td>\n",
       "      <td>5.616562e+06</td>\n",
       "      <td>2020/12/16 08:19:04+00</td>\n",
       "      <td>3</td>\n",
       "    </tr>\n",
       "    <tr>\n",
       "      <th>3</th>\n",
       "      <td>-93.269013</td>\n",
       "      <td>44.982137</td>\n",
       "      <td>17349592</td>\n",
       "      <td>08-032796</td>\n",
       "      <td>2008/02/03 00:50:46+00</td>\n",
       "      <td>Suspicious Person</td>\n",
       "      <td>No</td>\n",
       "      <td>OBSTRU</td>\n",
       "      <td>No</td>\n",
       "      <td>1</td>\n",
       "      <td>...</td>\n",
       "      <td>322402</td>\n",
       "      <td>46998.0</td>\n",
       "      <td>23458</td>\n",
       "      <td>16243</td>\n",
       "      <td>44.982137</td>\n",
       "      <td>-93.269013</td>\n",
       "      <td>-1.038266e+07</td>\n",
       "      <td>5.618710e+06</td>\n",
       "      <td>2020/12/16 08:19:04+00</td>\n",
       "      <td>4</td>\n",
       "    </tr>\n",
       "    <tr>\n",
       "      <th>4</th>\n",
       "      <td>-93.280839</td>\n",
       "      <td>44.967060</td>\n",
       "      <td>17349593</td>\n",
       "      <td>08-034441</td>\n",
       "      <td>2008/02/04 21:54:18+00</td>\n",
       "      <td>Fight</td>\n",
       "      <td>Yes</td>\n",
       "      <td>DISCON</td>\n",
       "      <td>No</td>\n",
       "      <td>2</td>\n",
       "      <td>...</td>\n",
       "      <td>322402</td>\n",
       "      <td>46998.0</td>\n",
       "      <td>5414</td>\n",
       "      <td>17037</td>\n",
       "      <td>44.967060</td>\n",
       "      <td>-93.280839</td>\n",
       "      <td>-1.038398e+07</td>\n",
       "      <td>5.616337e+06</td>\n",
       "      <td>2020/12/16 08:19:04+00</td>\n",
       "      <td>5</td>\n",
       "    </tr>\n",
       "  </tbody>\n",
       "</table>\n",
       "<p>5 rows × 30 columns</p>\n",
       "</div>"
      ],
      "text/plain": [
       "           X          Y  PoliceUseOfForceID CaseNumber  \\\n",
       "0 -93.291040  44.988830            17349589  08-002346   \n",
       "1 -93.278939  44.979240            17349590  08-007154   \n",
       "2 -93.267657  44.968485            17349591  08-016997   \n",
       "3 -93.269013  44.982137            17349592  08-032796   \n",
       "4 -93.280839  44.967060            17349593  08-034441   \n",
       "\n",
       "             ResponseDate                   Problem Is911Call PrimaryOffense  \\\n",
       "0  2008/01/03 03:20:24+00                    Theft        Yes         BURGTL   \n",
       "1  2008/01/07 22:07:54+00        Suspicious Person         No         LOITER   \n",
       "2  2008/01/17 20:36:32+00  High Risk Warrant Entry         No           NARC   \n",
       "3  2008/02/03 00:50:46+00        Suspicious Person         No         OBSTRU   \n",
       "4  2008/02/04 21:54:18+00                    Fight        Yes         DISCON   \n",
       "\n",
       "  SubjectInjury  ForceReportNumber  ... TotalCityCallsForYear  \\\n",
       "0            No                  4  ...                322402   \n",
       "1            No                  2  ...                322402   \n",
       "2           Yes                  1  ...                322402   \n",
       "3            No                  1  ...                322402   \n",
       "4            No                  2  ...                322402   \n",
       "\n",
       "   TotalPrecinctCallsForYear TotalNeighborhoodCallsForYear CenterGBSID  \\\n",
       "0                    80434.0                          1123       16516   \n",
       "1                    46998.0                         23458       25860   \n",
       "2                    46998.0                          6134       18562   \n",
       "3                    46998.0                         23458       16243   \n",
       "4                    46998.0                          5414       17037   \n",
       "\n",
       "  CenterLatitude CenterLongitude       CenterX       CenterY  \\\n",
       "0      44.988830      -93.291040 -1.038511e+07  5.619763e+06   \n",
       "1      44.979240      -93.278939 -1.038376e+07  5.618254e+06   \n",
       "2      44.968485      -93.267657 -1.038251e+07  5.616562e+06   \n",
       "3      44.982137      -93.269013 -1.038266e+07  5.618710e+06   \n",
       "4      44.967060      -93.280839 -1.038398e+07  5.616337e+06   \n",
       "\n",
       "                DateAdded OBJECTID  \n",
       "0  2020/12/16 08:19:04+00        1  \n",
       "1  2020/12/16 08:19:04+00        2  \n",
       "2  2020/12/16 08:19:04+00        3  \n",
       "3  2020/12/16 08:19:04+00        4  \n",
       "4  2020/12/16 08:19:04+00        5  \n",
       "\n",
       "[5 rows x 30 columns]"
      ]
     },
     "execution_count": 68,
     "metadata": {},
     "output_type": "execute_result"
    }
   ],
   "source": [
    "dataset = pd.read_csv('../Visualización/Police_Use_of_Force.csv')\n",
    "dataset.head()"
   ]
  },
  {
   "cell_type": "code",
   "execution_count": 41,
   "metadata": {},
   "outputs": [
    {
     "data": {
      "text/plain": [
       "Index(['X', 'Y', 'PoliceUseOfForceID', 'CaseNumber', 'ResponseDate', 'Problem',\n",
       "       'Is911Call', 'PrimaryOffense', 'SubjectInjury', 'ForceReportNumber',\n",
       "       'SubjectRole', 'SubjectRoleNumber', 'ForceType', 'ForceTypeAction',\n",
       "       'Race', 'Sex', 'EventAge', 'TypeOfResistance', 'Precinct',\n",
       "       'Neighborhood', 'TotalCityCallsForYear', 'TotalPrecinctCallsForYear',\n",
       "       'TotalNeighborhoodCallsForYear', 'CenterGBSID', 'CenterLatitude',\n",
       "       'CenterLongitude', 'CenterX', 'CenterY', 'DateAdded', 'OBJECTID'],\n",
       "      dtype='object')"
      ]
     },
     "execution_count": 41,
     "metadata": {},
     "output_type": "execute_result"
    }
   ],
   "source": [
    "dataset.columns"
   ]
  },
  {
   "cell_type": "markdown",
   "metadata": {},
   "source": [
    "## Estudio barrios"
   ]
  },
  {
   "cell_type": "code",
   "execution_count": 61,
   "metadata": {},
   "outputs": [
    {
     "data": {
      "text/plain": [
       "array(['Sumner-Glenwood', 'Downtown West', 'Elliot Park', 'Loring Park',\n",
       "       'Holland', 'Jordan', 'Hawthorne', 'CARAG', 'Willard-Hay',\n",
       "       'Lowry Hill East', 'Corcoran', 'Near-North', 'Longfellow',\n",
       "       'Morris Park', 'St. Anthony East', 'Phillips West', 'Audubon Park',\n",
       "       'Lowry Hill', 'East Phillips', 'Harrison', 'Marcy Holmes',\n",
       "       'Waite Park', 'Ventura Village', 'St. Anthony West', 'Wenonah',\n",
       "       'Windom Park', 'Bottineau', 'Central', 'Standish',\n",
       "       'Northeast Park', 'Prospect Park-East River Road', 'Folwell',\n",
       "       'Whittier', 'East Harriet', 'Bryant', 'Shingle Creek',\n",
       "       'Downtown East', 'Lyndale', 'Cedar Riverside', 'Lind-Bohanon',\n",
       "       'McKinley', 'East Isles', 'North Loop', 'Lynnhurst', 'Cleveland',\n",
       "       \"Steven's Square - Loring Heights\", 'Nicollet Island - East Bank',\n",
       "       'Logan Park', 'Midtown Phillips', 'Tangletown', 'Victory',\n",
       "       'Sheridan', 'Como', 'Minnehaha', 'Seward', 'Webber-Camden',\n",
       "       'Powderhorn Park', 'Bancroft', 'King Field', 'Hiawatha', 'Regina',\n",
       "       'West Calhoun', 'Ericsson', 'Beltrami', 'Diamond Lake', 'Armatage',\n",
       "       'Linden Hills', 'Field', 'Northrop', 'Hale', 'Page', 'ECCO',\n",
       "       'Marshall Terrace', 'Mid-City Industrial', 'Bryn-Mawr', 'Howe',\n",
       "       'Columbia Park', 'Camden Industrial', 'Cooper', 'Windom', 'Kenny',\n",
       "       'University of Minnesota', 'Cedar-Isles-Dean', 'Fulton', 'Kenwood',\n",
       "       'Keewaydin', 'Humboldt Industrial Area'], dtype=object)"
      ]
     },
     "execution_count": 61,
     "metadata": {},
     "output_type": "execute_result"
    }
   ],
   "source": [
    "dataset['Neighborhood'].unique()"
   ]
  },
  {
   "cell_type": "code",
   "execution_count": 62,
   "metadata": {},
   "outputs": [
    {
     "data": {
      "text/plain": [
       "87"
      ]
     },
     "execution_count": 62,
     "metadata": {},
     "output_type": "execute_result"
    }
   ],
   "source": [
    "len(dataset['Neighborhood'].unique())"
   ]
  },
  {
   "cell_type": "code",
   "execution_count": 73,
   "metadata": {},
   "outputs": [
    {
     "data": {
      "text/html": [
       "<div>\n",
       "<style scoped>\n",
       "    .dataframe tbody tr th:only-of-type {\n",
       "        vertical-align: middle;\n",
       "    }\n",
       "\n",
       "    .dataframe tbody tr th {\n",
       "        vertical-align: top;\n",
       "    }\n",
       "\n",
       "    .dataframe thead th {\n",
       "        text-align: right;\n",
       "    }\n",
       "</style>\n",
       "<table border=\"1\" class=\"dataframe\">\n",
       "  <thead>\n",
       "    <tr style=\"text-align: right;\">\n",
       "      <th></th>\n",
       "      <th>ID</th>\n",
       "      <th>NAME</th>\n",
       "      <th>D</th>\n",
       "    </tr>\n",
       "  </thead>\n",
       "  <tbody>\n",
       "    <tr>\n",
       "      <th>0</th>\n",
       "      <td>1</td>\n",
       "      <td>Diamond Lake</td>\n",
       "      <td>M239.49,628.47c-3.47-.33-7,.14-10.49-.13-7.79-...</td>\n",
       "    </tr>\n",
       "    <tr>\n",
       "      <th>1</th>\n",
       "      <td>2</td>\n",
       "      <td>Wenonah</td>\n",
       "      <td>M312.78,607.87c-.44,6.8-.7,13.62-.87,20.44-.09...</td>\n",
       "    </tr>\n",
       "    <tr>\n",
       "      <th>2</th>\n",
       "      <td>3</td>\n",
       "      <td>Morris Park</td>\n",
       "      <td>M355,606.83c-.14,8.14-.19,16.28-.2,24.42,0,2.6...</td>\n",
       "    </tr>\n",
       "    <tr>\n",
       "      <th>3</th>\n",
       "      <td>4</td>\n",
       "      <td>Minnehaha</td>\n",
       "      <td>M382.27,599.24c-10.27,0-19.52,0-28.76,0-11,0-2...</td>\n",
       "    </tr>\n",
       "    <tr>\n",
       "      <th>4</th>\n",
       "      <td>5</td>\n",
       "      <td>Keewaydin</td>\n",
       "      <td>M311.21,587.14c2,2,1.5,4.3,1.5,6.56,0,5.23-3.1...</td>\n",
       "    </tr>\n",
       "  </tbody>\n",
       "</table>\n",
       "</div>"
      ],
      "text/plain": [
       "   ID          NAME                                                  D\n",
       "0   1  Diamond Lake  M239.49,628.47c-3.47-.33-7,.14-10.49-.13-7.79-...\n",
       "1   2       Wenonah  M312.78,607.87c-.44,6.8-.7,13.62-.87,20.44-.09...\n",
       "2   3   Morris Park  M355,606.83c-.14,8.14-.19,16.28-.2,24.42,0,2.6...\n",
       "3   4     Minnehaha  M382.27,599.24c-10.27,0-19.52,0-28.76,0-11,0-2...\n",
       "4   5     Keewaydin  M311.21,587.14c2,2,1.5,4.3,1.5,6.56,0,5.23-3.1..."
      ]
     },
     "execution_count": 73,
     "metadata": {},
     "output_type": "execute_result"
    }
   ],
   "source": [
    "neigborhoods = pd.read_csv('../Visualización/neigborhoods.tsv', sep='\\t')\n",
    "neigborhoods.head()"
   ]
  },
  {
   "cell_type": "code",
   "execution_count": 64,
   "metadata": {},
   "outputs": [
    {
     "data": {
      "text/plain": [
       "87"
      ]
     },
     "execution_count": 64,
     "metadata": {},
     "output_type": "execute_result"
    }
   ],
   "source": [
    "len(neigborhoods['NAME'])"
   ]
  },
  {
   "cell_type": "code",
   "execution_count": 74,
   "metadata": {
    "scrolled": true
   },
   "outputs": [],
   "source": [
    "n1 = set(dataset['Neighborhood'])\n",
    "n2 = set(neigborhoods['NAME'])"
   ]
  },
  {
   "cell_type": "code",
   "execution_count": 75,
   "metadata": {},
   "outputs": [
    {
     "data": {
      "text/plain": [
       "set()"
      ]
     },
     "execution_count": 75,
     "metadata": {},
     "output_type": "execute_result"
    }
   ],
   "source": [
    "n1 - n2"
   ]
  },
  {
   "cell_type": "code",
   "execution_count": 76,
   "metadata": {},
   "outputs": [
    {
     "data": {
      "text/plain": [
       "set()"
      ]
     },
     "execution_count": 76,
     "metadata": {},
     "output_type": "execute_result"
    }
   ],
   "source": [
    "n2 - n1"
   ]
  },
  {
   "cell_type": "markdown",
   "metadata": {},
   "source": [
    "## Posibles valores atributos"
   ]
  },
  {
   "cell_type": "code",
   "execution_count": 78,
   "metadata": {},
   "outputs": [
    {
     "data": {
      "text/plain": [
       "array(['Yes', 'No', nan], dtype=object)"
      ]
     },
     "execution_count": 78,
     "metadata": {},
     "output_type": "execute_result"
    }
   ],
   "source": [
    "dataset.Is911Call.unique()"
   ]
  },
  {
   "cell_type": "code",
   "execution_count": 79,
   "metadata": {},
   "outputs": [
    {
     "data": {
      "text/plain": [
       "array(['No', 'Yes', nan], dtype=object)"
      ]
     },
     "execution_count": 79,
     "metadata": {},
     "output_type": "execute_result"
    }
   ],
   "source": [
    "dataset.SubjectInjury.unique()"
   ]
  },
  {
   "cell_type": "code",
   "execution_count": 82,
   "metadata": {},
   "outputs": [
    {
     "name": "stdout",
     "output_type": "stream",
     "text": [
      "['Bodily Force' 'Taser' 'Chemical Irritant' 'Improvised Weapon'\n",
      " 'Police K9 Bite' 'Baton' 'Firearm' 'Less Lethal Projectile'\n",
      " 'Gun Point Display' 'Maximal Restraint Technique' 'Less Lethal' nan]\n",
      "12\n"
     ]
    }
   ],
   "source": [
    "print(dataset.ForceType.unique())\n",
    "print(len(dataset.ForceType.unique()))"
   ]
  },
  {
   "cell_type": "code",
   "execution_count": 84,
   "metadata": {},
   "outputs": [
    {
     "name": "stdout",
     "output_type": "stream",
     "text": [
      "['Asian' 'Black' 'Native American' 'White' 'Other / Mixed Race' 'Unknown'\n",
      " 'not recorded' 'Pacific Islander' nan]\n",
      "9\n"
     ]
    }
   ],
   "source": [
    "print(dataset.Race.unique())\n",
    "print(len(dataset.Race.unique()))"
   ]
  },
  {
   "cell_type": "code",
   "execution_count": 85,
   "metadata": {},
   "outputs": [
    {
     "data": {
      "text/plain": [
       "array(['Male', 'Female', 'Unknown', 'not recorded', nan], dtype=object)"
      ]
     },
     "execution_count": 85,
     "metadata": {},
     "output_type": "execute_result"
    }
   ],
   "source": [
    "dataset.Sex.unique()"
   ]
  },
  {
   "cell_type": "code",
   "execution_count": 87,
   "metadata": {},
   "outputs": [
    {
     "data": {
      "text/plain": [
       "28.500186030779638"
      ]
     },
     "execution_count": 87,
     "metadata": {},
     "output_type": "execute_result"
    }
   ],
   "source": [
    "dataset.EventAge.mean()"
   ]
  },
  {
   "cell_type": "code",
   "execution_count": null,
   "metadata": {},
   "outputs": [],
   "source": []
  }
 ],
 "metadata": {
  "kernelspec": {
   "display_name": "Python 3",
   "language": "python",
   "name": "python3"
  },
  "language_info": {
   "codemirror_mode": {
    "name": "ipython",
    "version": 3
   },
   "file_extension": ".py",
   "mimetype": "text/x-python",
   "name": "python",
   "nbconvert_exporter": "python",
   "pygments_lexer": "ipython3",
   "version": "3.7.1"
  }
 },
 "nbformat": 4,
 "nbformat_minor": 2
}
